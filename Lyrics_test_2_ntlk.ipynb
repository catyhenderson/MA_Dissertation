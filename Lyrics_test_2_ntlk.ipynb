{
 "cells": [
  {
   "cell_type": "code",
   "execution_count": 58,
   "metadata": {},
   "outputs": [],
   "source": [
    "# Importing necessary library\n",
    "import pandas as pd\n",
    "import numpy as np\n",
    "import string\n",
    "import nltk\n",
    "\n",
    "# sample text for performing tokenization\n",
    "text1 = \"In Brazil fly flies connection, connected, connecting they drive on the right-hand side of the road. Brazil has a large coastline on the eastern side of South America\"\n"
   ]
  },
  {
   "cell_type": "code",
   "execution_count": 59,
   "metadata": {},
   "outputs": [],
   "source": [
    "# import text file of lyrics"
   ]
  },
  {
   "cell_type": "code",
   "execution_count": 60,
   "metadata": {},
   "outputs": [
    {
     "name": "stdout",
     "output_type": "stream",
     "text": [
      "In Brazil fly flies connection connected connecting they drive on the righthand side of the road Brazil has a large coastline on the eastern side of South America\n"
     ]
    }
   ],
   "source": [
    "# Remove punctuation\n",
    "table = str.maketrans(dict.fromkeys(string.punctuation))\n",
    "text = text1.translate(table)\n",
    "print(text)\n"
   ]
  },
  {
   "cell_type": "code",
   "execution_count": 61,
   "metadata": {},
   "outputs": [
    {
     "name": "stdout",
     "output_type": "stream",
     "text": [
      "in brazil fly flies connection connected connecting they drive on the righthand side of the road brazil has a large coastline on the eastern side of south america\n"
     ]
    }
   ],
   "source": [
    "# text to lower case\n",
    "\n",
    "text = text.lower()\n",
    "print(text)"
   ]
  },
  {
   "cell_type": "code",
   "execution_count": 62,
   "metadata": {},
   "outputs": [
    {
     "name": "stdout",
     "output_type": "stream",
     "text": [
      "['in', 'brazil', 'fly', 'flies', 'connection', 'connected', 'connecting', 'they', 'drive', 'on', 'the', 'righthand', 'side', 'of', 'the', 'road', 'brazil', 'has', 'a', 'large', 'coastline', 'on', 'the', 'eastern', 'side', 'of', 'south', 'america']\n"
     ]
    }
   ],
   "source": [
    "from nltk.tokenize import word_tokenize\n",
    "tokenized_word=word_tokenize(text)\n",
    "print(tokenized_word)"
   ]
  },
  {
   "cell_type": "code",
   "execution_count": 63,
   "metadata": {},
   "outputs": [
    {
     "name": "stdout",
     "output_type": "stream",
     "text": [
      "List of Stop Words: {'under', 'own', 's', 'against', 'yours', 'when', 'o', 'himself', 'been', 'needn', 'here', \"haven't\", 'them', \"you'll\", 'any', 'me', 'hers', 'or', 'ain', 'shouldn', 'during', 'than', 'up', 'most', 'themselves', \"you'd\", 'whom', 'don', 'have', 'all', 'were', 'through', 'are', 'does', 'once', 'below', 'myself', 'didn', 'y', 'mustn', \"hasn't\", 'at', 'while', 'above', 'doing', \"weren't\", 'very', 'am', 'into', 'then', 'an', \"it's\", 'is', 'down', \"hadn't\", 'those', 'other', 'couldn', 'just', 'be', 're', \"won't\", \"didn't\", \"you're\", 'her', 'so', 'to', 'will', 'both', 'should', 'further', \"wouldn't\", 'doesn', 'their', 'as', \"doesn't\", 'it', 'the', 'where', 'out', 'for', 'not', 'wouldn', 'my', 'had', 'did', 'ours', 'weren', 'your', 'there', 'having', 'isn', 'you', 'was', 'about', \"she's\", 'again', 'how', \"mustn't\", 'wasn', 'can', 'shan', 'only', 'won', 'he', 'and', 'no', 'after', 'too', 'that', \"mightn't\", 'she', 'over', 'm', 'theirs', 'its', 'these', 'more', 'before', 'him', 'mightn', 'his', 'itself', 'but', 'such', 'herself', 'same', 'if', 'hadn', \"needn't\", 'of', 'few', \"couldn't\", 'ourselves', 'we', 'yourselves', 'which', 'this', \"aren't\", 'what', 'being', 'has', 'haven', \"you've\", \"isn't\", 'off', 'ma', 'll', 'who', 'a', \"should've\", 'i', 'our', \"don't\", \"shan't\", 'on', 't', 'by', 'nor', 'between', 'with', 'yourself', 'until', 'aren', 'do', 'in', 'because', 'd', 'some', \"shouldn't\", 'hasn', 'from', \"wasn't\", 'why', 've', 'they', 'now', 'each', \"that'll\"}\n"
     ]
    }
   ],
   "source": [
    "# List stopwords\n",
    "\n",
    "from nltk.corpus import stopwords\n",
    "stop_words=set(stopwords.words(\"english\"))\n",
    "print(\"List of Stop Words:\", stop_words)"
   ]
  },
  {
   "cell_type": "code",
   "execution_count": 64,
   "metadata": {},
   "outputs": [
    {
     "name": "stdout",
     "output_type": "stream",
     "text": [
      "Filterd Sentence: ['brazil', 'fly', 'flies', 'connection', 'connected', 'connecting', 'drive', 'righthand', 'side', 'road', 'brazil', 'large', 'coastline', 'eastern', 'side', 'south', 'america']\n"
     ]
    }
   ],
   "source": [
    "# Filter and remove stopwords\n",
    "\n",
    "filtered_sent=[]\n",
    "for w in tokenized_word:\n",
    "    if w not in stop_words:\n",
    "        filtered_sent.append(w)\n",
    "print(\"Filterd Sentence:\",filtered_sent)"
   ]
  },
  {
   "cell_type": "code",
   "execution_count": 65,
   "metadata": {},
   "outputs": [
    {
     "name": "stdout",
     "output_type": "stream",
     "text": [
      "Stemmed Sentence: ['brazil', 'fli', 'fli', 'connect', 'connect', 'connect', 'drive', 'righthand', 'side', 'road', 'brazil', 'larg', 'coastlin', 'eastern', 'side', 'south', 'america']\n"
     ]
    }
   ],
   "source": [
    "# Stemming Stemming is a process of linguistic normalization, which reduces words to their word root word or chops off the derivational affixes.\n",
    "# For example, connection, connected, connecting word reduce to a common word \"connect\".\n",
    "\n",
    "from nltk.stem import PorterStemmer\n",
    "\n",
    "ps = PorterStemmer()\n",
    "\n",
    "stemmed_words=[]\n",
    "for w in filtered_sent:\n",
    "    stemmed_words.append(ps.stem(w))\n",
    "    \n",
    "print(\"Stemmed Sentence:\",stemmed_words)"
   ]
  },
  {
   "cell_type": "code",
   "execution_count": null,
   "metadata": {},
   "outputs": [],
   "source": []
  },
  {
   "cell_type": "code",
   "execution_count": null,
   "metadata": {},
   "outputs": [],
   "source": []
  }
 ],
 "metadata": {
  "kernelspec": {
   "display_name": "Python 3",
   "language": "python",
   "name": "python3"
  },
  "language_info": {
   "codemirror_mode": {
    "name": "ipython",
    "version": 3
   },
   "file_extension": ".py",
   "mimetype": "text/x-python",
   "name": "python",
   "nbconvert_exporter": "python",
   "pygments_lexer": "ipython3",
   "version": "3.8.3"
  }
 },
 "nbformat": 4,
 "nbformat_minor": 4
}
